{
 "cells": [
  {
   "cell_type": "code",
   "execution_count": 1,
   "metadata": {
    "pycharm": {
     "name": "#%%\n"
    }
   },
   "outputs": [],
   "source": [
    "import json\n",
    "import time\n",
    "from typing import Optional, Text\n",
    "\n",
    "import pandas as pd\n",
    "from clickhouse_driver import Client\n",
    "from pydantic import BaseModel, ValidationError"
   ]
  },
  {
   "cell_type": "code",
   "execution_count": 2,
   "metadata": {
    "pycharm": {
     "name": "#%%\n"
    }
   },
   "outputs": [],
   "source": [
    "client = Client(host=\"localhost\")"
   ]
  },
  {
   "cell_type": "code",
   "execution_count": 3,
   "metadata": {
    "pycharm": {
     "name": "#%%\n"
    }
   },
   "outputs": [
    {
     "data": {
      "text/plain": [
       "[]"
      ]
     },
     "execution_count": 3,
     "metadata": {},
     "output_type": "execute_result"
    }
   ],
   "source": [
    "client.execute(\"CREATE DATABASE IF NOT EXISTS test_db\")"
   ]
  },
  {
   "cell_type": "code",
   "execution_count": 4,
   "metadata": {
    "pycharm": {
     "name": "#%%\n"
    }
   },
   "outputs": [
    {
     "data": {
      "text/plain": [
       "[]"
      ]
     },
     "execution_count": 4,
     "metadata": {},
     "output_type": "execute_result"
    }
   ],
   "source": [
    "client.execute(\"CREATE TABLE IF NOT EXISTS test_db.test_table (Id UInt64, user_id TEXT, movie_id TEXT, \\\n",
    "                stars smallint, viewed_frame Float64, likes boolean, event_time DateTime) Engine=MergeTree() ORDER BY Id PRIMARY KEY Id\")"
   ]
  },
  {
   "cell_type": "code",
   "execution_count": 5,
   "metadata": {
    "pycharm": {
     "name": "#%%\n"
    }
   },
   "outputs": [],
   "source": [
    "df = pd.read_csv(\"./data/test.csv\", delimiter=\",\", encoding=\"utf-8\", low_memory=False)"
   ]
  },
  {
   "cell_type": "code",
   "execution_count": 6,
   "metadata": {
    "pycharm": {
     "name": "#%%\n"
    }
   },
   "outputs": [],
   "source": [
    "class Data(BaseModel):\n",
    "    Id: int\n",
    "    user_id: Optional[Text]\n",
    "    movie_id: Optional[Text]\n",
    "    stars: Optional[int]\n",
    "    viewed_frame: Optional[int]\n",
    "    likes: Optional[Text]\n",
    "    event_time: Optional[Text]"
   ]
  },
  {
   "cell_type": "code",
   "execution_count": 7,
   "metadata": {
    "pycharm": {
     "name": "#%%\n"
    }
   },
   "outputs": [],
   "source": [
    "payload = json.loads(df.to_json(orient=\"records\"))"
   ]
  },
  {
   "cell_type": "code",
   "execution_count": null,
   "metadata": {
    "pycharm": {
     "name": "#%%\n"
    }
   },
   "outputs": [],
   "source": [
    "for i in payload:\n",
    "    try:\n",
    "        d = Data(**i)\n",
    "        client.execute(\n",
    "            \"INSERT INTO test_db.test_table (Id, user_id, movie_id, stars, viewed_frame, likes, event_time) \\\n",
    "            VALUES (%(Id)s, %(user_id)s, %(movie_id)s, %(stars)s, %(viewed_frame)s, %(likes)s, %(event_time)s)\",\n",
    "            {\n",
    "                \"Id\": d.Id,\n",
    "                \"user_id\": d.user_id,\n",
    "                \"movie_id\": d.movie_id,\n",
    "                \"stars\": d.stars,\n",
    "                \"viewed_frame\": d.viewed_frame,\n",
    "                \"likes\": d.likes,\n",
    "                \"event_time\": d.event_time\n",
    "            }\n",
    "        )\n",
    "    except ValidationError:\n",
    "        pass"
   ]
  },
  {
   "cell_type": "code",
   "execution_count": null,
   "metadata": {
    "pycharm": {
     "name": "#%%\n"
    }
   },
   "outputs": [],
   "source": [
    "start = time.time()\n",
    "client.execute(\"SELECT t.* FROM test_db.test_table t LIMIT 1\")\n",
    "end = time.time()\n",
    "print(\"Elapsed:\", (end - start)*1000, \"ms.\")"
   ]
  },
  {
   "cell_type": "code",
   "execution_count": null,
   "metadata": {
    "pycharm": {
     "name": "#%%\n"
    }
   },
   "outputs": [],
   "source": [
    "start = time.time()\n",
    "result_1 = client.execute(\"SELECT t.* FROM test_db.test_table t WHERE Id='234000'\")\n",
    "end = time.time()\n",
    "print(\"Elapsed:\", (end - start)*1000, \"ms.\")"
   ]
  },
  {
   "cell_type": "code",
   "execution_count": null,
   "metadata": {
    "pycharm": {
     "name": "#%%\n"
    }
   },
   "outputs": [],
   "source": []
  }
 ],
 "metadata": {
  "kernelspec": {
   "display_name": "Python 3 (ipykernel)",
   "language": "python",
   "name": "python3"
  },
  "language_info": {
   "codemirror_mode": {
    "name": "ipython",
    "version": 3
   },
   "file_extension": ".py",
   "mimetype": "text/x-python",
   "name": "python",
   "nbconvert_exporter": "python",
   "pygments_lexer": "ipython3",
   "version": "3.10.6"
  }
 },
 "nbformat": 4,
 "nbformat_minor": 1
}
