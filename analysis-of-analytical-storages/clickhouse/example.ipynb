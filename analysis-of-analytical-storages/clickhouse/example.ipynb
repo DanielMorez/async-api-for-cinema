{
 "cells": [
  {
   "cell_type": "code",
   "execution_count": 53,
   "metadata": {},
   "outputs": [],
   "source": [
    "from clickhouse_driver import Client\n",
    "\n",
    "client = Client(host='localhost')"
   ]
  },
  {
   "cell_type": "code",
   "execution_count": 54,
   "metadata": {},
   "outputs": [
    {
     "data": {
      "text/plain": [
       "[('_temporary_and_external_tables',),\n",
       " ('analysis',),\n",
       " ('default',),\n",
       " ('replica',),\n",
       " ('shard',),\n",
       " ('system',)]"
      ]
     },
     "execution_count": 54,
     "metadata": {},
     "output_type": "execute_result"
    }
   ],
   "source": [
    "client.execute('SHOW DATABASES')"
   ]
  },
  {
   "cell_type": "markdown",
   "metadata": {},
   "source": [
    "### Проводим измерения во время загрузки данных"
   ]
  },
  {
   "cell_type": "code",
   "execution_count": 62,
   "metadata": {},
   "outputs": [
    {
     "name": "stdout",
     "output_type": "stream",
     "text": [
      "CPU times: user 1.49 ms, sys: 1.8 ms, total: 3.29 ms\n",
      "Wall time: 35.8 ms\n"
     ]
    },
    {
     "data": {
      "text/plain": [
       "[(5685131,)]"
      ]
     },
     "execution_count": 62,
     "metadata": {},
     "output_type": "execute_result"
    }
   ],
   "source": [
    "%%time\n",
    "client.execute('SELECT count() FROM analysis.viewed_progress')"
   ]
  },
  {
   "cell_type": "code",
   "execution_count": 63,
   "metadata": {},
   "outputs": [
    {
     "name": "stdout",
     "output_type": "stream",
     "text": [
      "CPU times: user 1.82 ms, sys: 1.82 ms, total: 3.64 ms\n",
      "Wall time: 392 ms\n"
     ]
    },
    {
     "data": {
      "text/plain": [
       "[(10000,)]"
      ]
     },
     "execution_count": 63,
     "metadata": {},
     "output_type": "execute_result"
    }
   ],
   "source": [
    "%%time\n",
    "client.execute('SELECT uniqExact(movie_id) FROM analysis.viewed_progress')"
   ]
  },
  {
   "cell_type": "code",
   "execution_count": 64,
   "metadata": {},
   "outputs": [
    {
     "name": "stdout",
     "output_type": "stream",
     "text": [
      "CPU times: user 1.8 ms, sys: 1.9 ms, total: 3.7 ms\n",
      "Wall time: 275 ms\n"
     ]
    },
    {
     "data": {
      "text/plain": [
       "[(10000,)]"
      ]
     },
     "execution_count": 64,
     "metadata": {},
     "output_type": "execute_result"
    }
   ],
   "source": [
    "%%time\n",
    "client.execute('SELECT uniqExact(user_id) FROM analysis.viewed_progress')"
   ]
  },
  {
   "cell_type": "code",
   "execution_count": 65,
   "metadata": {},
   "outputs": [
    {
     "name": "stdout",
     "output_type": "stream",
     "text": [
      "CPU times: user 40.3 ms, sys: 11.5 ms, total: 51.8 ms\n",
      "Wall time: 9.31 s\n"
     ]
    }
   ],
   "source": [
    "%%time\n",
    "data = client.execute(\n",
    "    \"\"\"\n",
    "    SELECT \n",
    "        user_id, \n",
    "        uniqExact(movie_id) \n",
    "    FROM analysis.viewed_progress\n",
    "    GROUP by user_id\n",
    "    \"\"\"\n",
    ")"
   ]
  },
  {
   "cell_type": "code",
   "execution_count": 66,
   "metadata": {},
   "outputs": [
    {
     "name": "stdout",
     "output_type": "stream",
     "text": [
      "CPU times: user 9.18 ms, sys: 3.44 ms, total: 12.6 ms\n",
      "Wall time: 1.68 s\n"
     ]
    }
   ],
   "source": [
    "%%time\n",
    "data = client.execute(\n",
    "    \"\"\"\n",
    "    SELECT \n",
    "        user_id, \n",
    "        sum(viewed_frame),\n",
    "        max(viewed_frame) \n",
    "    FROM analysis.viewed_progress\n",
    "    GROUP by user_id\n",
    "    \"\"\"\n",
    ")"
   ]
  },
  {
   "cell_type": "code",
   "execution_count": 68,
   "metadata": {},
   "outputs": [
    {
     "name": "stdout",
     "output_type": "stream",
     "text": [
      "CPU times: user 5.88 ms, sys: 2.54 ms, total: 8.41 ms\n",
      "Wall time: 414 ms\n"
     ]
    }
   ],
   "source": [
    "%%time\n",
    "data = client.execute(\n",
    "    \"\"\"\n",
    "    SELECT \n",
    "        user_id, \n",
    "        sum(viewed_frame),\n",
    "        max(viewed_frame) \n",
    "    FROM analysis.viewed_progress\n",
    "    WHERE event_time > '2021-04-13 23:09:02'\n",
    "    GROUP by user_id\n",
    "    \"\"\"\n",
    ")"
   ]
  },
  {
   "cell_type": "code",
   "execution_count": 67,
   "metadata": {},
   "outputs": [
    {
     "name": "stdout",
     "output_type": "stream",
     "text": [
      "CPU times: user 2.22 ms, sys: 1.9 ms, total: 4.13 ms\n",
      "Wall time: 961 ms\n"
     ]
    },
    {
     "data": {
      "text/plain": [
       "[(6091478,)]"
      ]
     },
     "execution_count": 67,
     "metadata": {},
     "output_type": "execute_result"
    }
   ],
   "source": [
    "%%time\n",
    "client.execute('SELECT count() FROM analysis.viewed_progress')"
   ]
  },
  {
   "cell_type": "markdown",
   "metadata": {},
   "source": [
    "### Проводим измерения после загрузки 10 000 000 строк"
   ]
  },
  {
   "cell_type": "code",
   "execution_count": 75,
   "metadata": {},
   "outputs": [
    {
     "name": "stdout",
     "output_type": "stream",
     "text": [
      "CPU times: user 1.44 ms, sys: 1.72 ms, total: 3.17 ms\n",
      "Wall time: 18.6 ms\n"
     ]
    },
    {
     "data": {
      "text/plain": [
       "[(10000000,)]"
      ]
     },
     "execution_count": 75,
     "metadata": {},
     "output_type": "execute_result"
    }
   ],
   "source": [
    "%%time\n",
    "client.execute('SELECT count() FROM analysis.viewed_progress')"
   ]
  },
  {
   "cell_type": "code",
   "execution_count": 76,
   "metadata": {},
   "outputs": [
    {
     "name": "stdout",
     "output_type": "stream",
     "text": [
      "CPU times: user 1.29 ms, sys: 1.37 ms, total: 2.67 ms\n",
      "Wall time: 225 ms\n"
     ]
    },
    {
     "data": {
      "text/plain": [
       "[(10000,)]"
      ]
     },
     "execution_count": 76,
     "metadata": {},
     "output_type": "execute_result"
    }
   ],
   "source": [
    "%%time\n",
    "client.execute('SELECT uniqExact(movie_id) FROM analysis.viewed_progress')"
   ]
  },
  {
   "cell_type": "code",
   "execution_count": 77,
   "metadata": {},
   "outputs": [
    {
     "name": "stdout",
     "output_type": "stream",
     "text": [
      "CPU times: user 1.44 ms, sys: 1.58 ms, total: 3.02 ms\n",
      "Wall time: 178 ms\n"
     ]
    },
    {
     "data": {
      "text/plain": [
       "[(10000,)]"
      ]
     },
     "execution_count": 77,
     "metadata": {},
     "output_type": "execute_result"
    }
   ],
   "source": [
    "%%time\n",
    "client.execute('SELECT uniqExact(user_id) FROM analysis.viewed_progress')"
   ]
  },
  {
   "cell_type": "code",
   "execution_count": 78,
   "metadata": {},
   "outputs": [
    {
     "name": "stdout",
     "output_type": "stream",
     "text": [
      "CPU times: user 38.4 ms, sys: 9.14 ms, total: 47.5 ms\n",
      "Wall time: 20.2 s\n"
     ]
    }
   ],
   "source": [
    "%%time\n",
    "data = client.execute(\n",
    "    \"\"\"\n",
    "    SELECT \n",
    "        user_id, \n",
    "        uniqExact(movie_id) \n",
    "    FROM analysis.viewed_progress\n",
    "    GROUP by user_id\n",
    "    \"\"\"\n",
    ")"
   ]
  },
  {
   "cell_type": "code",
   "execution_count": 79,
   "metadata": {},
   "outputs": [
    {
     "name": "stdout",
     "output_type": "stream",
     "text": [
      "CPU times: user 6.28 ms, sys: 2.27 ms, total: 8.55 ms\n",
      "Wall time: 503 ms\n"
     ]
    }
   ],
   "source": [
    "%%time\n",
    "data = client.execute(\n",
    "    \"\"\"\n",
    "    SELECT \n",
    "        user_id, \n",
    "        sum(viewed_frame),\n",
    "        max(viewed_frame) \n",
    "    FROM analysis.viewed_progress\n",
    "    GROUP by user_id\n",
    "    \"\"\"\n",
    ")"
   ]
  },
  {
   "cell_type": "code",
   "execution_count": 80,
   "metadata": {},
   "outputs": [
    {
     "name": "stdout",
     "output_type": "stream",
     "text": [
      "CPU times: user 4.69 ms, sys: 2.11 ms, total: 6.81 ms\n",
      "Wall time: 231 ms\n"
     ]
    }
   ],
   "source": [
    "%%time\n",
    "data = client.execute(\n",
    "    \"\"\"\n",
    "    SELECT \n",
    "        user_id, \n",
    "        sum(viewed_frame),\n",
    "        max(viewed_frame) \n",
    "    FROM analysis.viewed_progress\n",
    "    WHERE event_time > '2021-04-13 23:09:02'\n",
    "    GROUP by user_id\n",
    "    \"\"\"\n",
    ")"
   ]
  }
 ],
 "metadata": {
  "kernelspec": {
   "display_name": "Python 3 (ipykernel)",
   "language": "python",
   "name": "python3"
  },
  "language_info": {
   "codemirror_mode": {
    "name": "ipython",
    "version": 3
   },
   "file_extension": ".py",
   "mimetype": "text/x-python",
   "name": "python",
   "nbconvert_exporter": "python",
   "pygments_lexer": "ipython3",
   "version": "3.10.6"
  }
 },
 "nbformat": 4,
 "nbformat_minor": 2
}
