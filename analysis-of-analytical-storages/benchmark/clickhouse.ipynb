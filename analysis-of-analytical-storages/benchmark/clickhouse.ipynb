{
 "cells": [
  {
   "cell_type": "code",
   "execution_count": 63,
   "outputs": [],
   "source": [
    "import json\n",
    "import time\n",
    "from typing import Optional, Text\n",
    "\n",
    "import pandas as pd\n",
    "from clickhouse_driver import Client\n",
    "from pydantic import BaseModel, ValidationError"
   ],
   "metadata": {
    "collapsed": false,
    "pycharm": {
     "name": "#%%\n"
    }
   }
  },
  {
   "cell_type": "code",
   "execution_count": 64,
   "outputs": [],
   "source": [
    "client = Client(host=\"0.0.0.0\")"
   ],
   "metadata": {
    "collapsed": false,
    "pycharm": {
     "name": "#%%\n"
    }
   }
  },
  {
   "cell_type": "code",
   "execution_count": 65,
   "outputs": [
    {
     "data": {
      "text/plain": "[]"
     },
     "execution_count": 65,
     "metadata": {},
     "output_type": "execute_result"
    }
   ],
   "source": [
    "client.execute(\"CREATE DATABASE IF NOT EXISTS test_db\")"
   ],
   "metadata": {
    "collapsed": false,
    "pycharm": {
     "name": "#%%\n"
    }
   }
  },
  {
   "cell_type": "code",
   "execution_count": 66,
   "outputs": [
    {
     "data": {
      "text/plain": "[]"
     },
     "execution_count": 66,
     "metadata": {},
     "output_type": "execute_result"
    }
   ],
   "source": [
    "client.execute(\"CREATE TABLE IF NOT EXISTS test_db.test_table (Id UInt64, EmployeeName TEXT, JobTitle TEXT, \\\n",
    "                BasePay Float64, OvertimePay Float64, OtherPay Float64, Benefits String, TotalPay Float64, \\\n",
    "                TotalPayBenefits Float64, Year UInt32, Notes String, Agency String, Status String) Engine=MergeTree() ORDER BY Id PRIMARY KEY Id\")"
   ],
   "metadata": {
    "collapsed": false,
    "pycharm": {
     "name": "#%%\n"
    }
   }
  },
  {
   "cell_type": "code",
   "execution_count": 67,
   "outputs": [],
   "source": [
    "df = pd.read_csv(\"./data/sf_salaries.csv\", delimiter=\",\", encoding=\"utf-8\", low_memory=False)"
   ],
   "metadata": {
    "collapsed": false,
    "pycharm": {
     "name": "#%%\n"
    }
   }
  },
  {
   "cell_type": "code",
   "execution_count": 68,
   "outputs": [],
   "source": [
    "class Data(BaseModel):\n",
    "    Id: int\n",
    "    EmployeeName: Optional[Text]\n",
    "    JobTitle: Optional[Text]\n",
    "    BasePay: Optional[float]\n",
    "    OvertimePay: Optional[float]\n",
    "    OtherPay: Optional[float]\n",
    "    Benefits: Optional[str]\n",
    "    TotalPay: Optional[float]\n",
    "    TotalPayBenefits: Optional[float]\n",
    "    Year: Optional[int]\n",
    "    Notes: Optional[str]\n",
    "    Agency: Optional[str]\n",
    "    Status: Optional[str]"
   ],
   "metadata": {
    "collapsed": false,
    "pycharm": {
     "name": "#%%\n"
    }
   }
  },
  {
   "cell_type": "code",
   "execution_count": 69,
   "outputs": [],
   "source": [
    "payload = json.loads(df.to_json(orient=\"records\"))"
   ],
   "metadata": {
    "collapsed": false,
    "pycharm": {
     "name": "#%%\n"
    }
   }
  },
  {
   "cell_type": "code",
   "execution_count": 70,
   "outputs": [],
   "source": [
    "for i in payload:\n",
    "    try:\n",
    "        d = Data(**i)\n",
    "        client.execute(\n",
    "            \"INSERT INTO test_db.test_table (Id, EmployeeName, JobTitle, BasePay, OvertimePay, OtherPay, Benefits, TotalPay, TotalPayBenefits, Year, Agency, Status) \\\n",
    "            VALUES (%(Id)s, %(EmployeeName)s, %(JobTitle)s, %(BasePay)s, %(OvertimePay)s, %(OtherPay)s, %(Benefits)s, %(TotalPay)s, %(TotalPayBenefits)s, %(Year)s, %(Agency)s, %(Status)s)\",\n",
    "            {\n",
    "                \"Id\": d.Id,\n",
    "                \"EmployeeName\": d.EmployeeName,\n",
    "                \"JobTitle\": d.JobTitle,\n",
    "                \"BasePay\": d.BasePay,\n",
    "                \"OvertimePay\": d.OvertimePay,\n",
    "                \"OtherPay\": d.OtherPay,\n",
    "                \"Benefits\": d.Benefits,\n",
    "                \"TotalPay\": d.TotalPay,\n",
    "                \"TotalPayBenefits\": d.TotalPayBenefits,\n",
    "                \"Year\": d.Year,\n",
    "                \"Agency\": d.Agency,\n",
    "                \"Status\": d.Status\n",
    "            }\n",
    "        )\n",
    "    except ValidationError:\n",
    "        pass"
   ],
   "metadata": {
    "collapsed": false,
    "pycharm": {
     "name": "#%%\n"
    }
   }
  },
  {
   "cell_type": "code",
   "execution_count": 80,
   "outputs": [
    {
     "name": "stdout",
     "output_type": "stream",
     "text": [
      "Elapsed: 14.184236526489258 ms.\n"
     ]
    }
   ],
   "source": [
    "start = time.time()\n",
    "client.execute(\"SELECT t.* FROM test_db.test_table t LIMIT 1\")\n",
    "end = time.time()\n",
    "print(\"Elapsed:\", (end - start)*1000, \"ms.\")"
   ],
   "metadata": {
    "collapsed": false,
    "pycharm": {
     "name": "#%%\n"
    }
   }
  },
  {
   "cell_type": "code",
   "execution_count": 81,
   "outputs": [
    {
     "name": "stdout",
     "output_type": "stream",
     "text": [
      "Elapsed: 25.981426239013672 ms.\n"
     ]
    }
   ],
   "source": [
    "start = time.time()\n",
    "result_1 = client.execute(\"SELECT t.* FROM test_db.test_table t WHERE JobTitle='NURSE MANAGER'\")\n",
    "end = time.time()\n",
    "print(\"Elapsed:\", (end - start)*1000, \"ms.\")"
   ],
   "metadata": {
    "collapsed": false,
    "pycharm": {
     "name": "#%%\n"
    }
   }
  },
  {
   "cell_type": "code",
   "execution_count": null,
   "outputs": [],
   "source": [],
   "metadata": {
    "collapsed": false,
    "pycharm": {
     "name": "#%%\n"
    }
   }
  }
 ],
 "metadata": {
  "kernelspec": {
   "display_name": "Python 3",
   "language": "python",
   "name": "python3"
  },
  "language_info": {
   "codemirror_mode": {
    "name": "ipython",
    "version": 2
   },
   "file_extension": ".py",
   "mimetype": "text/x-python",
   "name": "python",
   "nbconvert_exporter": "python",
   "pygments_lexer": "ipython2",
   "version": "2.7.6"
  }
 },
 "nbformat": 4,
 "nbformat_minor": 0
}